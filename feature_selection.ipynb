{
 "cells": [
  {
   "cell_type": "code",
   "execution_count": 2,
   "id": "1d7e150a-f17b-42fb-bea6-174837d2c00a",
   "metadata": {},
   "outputs": [],
   "source": [
    "import pandas as pd\n",
    "import numpy as np\n",
    "from sklearn import preprocessing\n",
    "from sklearn.model_selection import train_test_split\n",
    "from sklearn.linear_model import LogisticRegression\n",
    "from sklearn.feature_selection import RFE, RFECV\n",
    "from sklearn.preprocessing import StandardScaler\n",
    "import matplotlib.pyplot as plt\n",
    "from xgboost import XGBRegressor\n",
    "\n",
    "sc = StandardScaler() # Maybe we want to bin continuos data like budget"
   ]
  },
  {
   "cell_type": "code",
   "execution_count": 3,
   "id": "c8d29690-8dc1-431f-a33c-344ba6a182c7",
   "metadata": {},
   "outputs": [],
   "source": [
    "df = pd.read_excel('../Data/ProcessedData/TMDB_processed.xlsx')\n",
    "df = df.drop(['title', 'revenue', 'budget'], axis=1) # Using log revenue"
   ]
  },
  {
   "cell_type": "code",
   "execution_count": 4,
   "id": "0380e299-668c-4053-853d-6bdc02d33fe3",
   "metadata": {},
   "outputs": [],
   "source": [
    "features = df.dtypes[(df.columns != 'log_revenue')].index # Grab all features except that which we are trying to predict"
   ]
  },
  {
   "cell_type": "code",
   "execution_count": 5,
   "id": "fc4a3421-df42-49b2-9ba4-ced478152ec2",
   "metadata": {},
   "outputs": [
    {
     "name": "stderr",
     "output_type": "stream",
     "text": [
      "/opt/homebrew/lib/python3.9/site-packages/sklearn/base.py:445: UserWarning: X does not have valid feature names, but RFECV was fitted with feature names\n",
      "  warnings.warn(\n"
     ]
    },
    {
     "name": "stdout",
     "output_type": "stream",
     "text": [
      "Optimal # of Features: 551\n",
      "Best Features: ['release_date', 'popularity', 'id', 'runtime', 'cast_average', 'crew_average', 'Jr. ', 'Frank Welker ', 'Samuel L. Jackson ', 'Liam Neeson ', 'Robert De Niro ', 'Bruce Willis ', 'Nicolas Cage ', 'Morgan Freeman ', 'Willem Dafoe ', 'John Goodman ', 'Steve Buscemi ', 'Matt Damon ', 'Sylvester Stallone ', 'Bess Flowers ', 'Stanley Tucci ', 'Johnny Depp ', 'Richard Jenkins ', 'J.K. Simmons ', 'Alec Baldwin ', 'Julianne Moore ', 'Keith David ', 'Dennis Quaid ', 'Robert Downey Jr. ', 'Harrison Ford ', 'Tom Hanks ', 'Bill Murray ', 'Christopher Walken ', 'Brad Pitt ', 'Thomas Rosales Jr. ', 'John Hurt ', 'John Leguizamo ', 'Paul Giamatti ', 'Robert Duvall ', 'Susan Sarandon ', 'Nicole Kidman ', 'Michael Caine ', 'Ben Stiller ', 'Robin Williams ', 'Gene Hackman ', 'Denzel Washington ', 'Alfred Molina ', 'Ben Kingsley ', 'Mickie McGowan ', 'Woody Harrelson ', 'Dustin Hoffman ', 'Meryl Streep ', 'Brian Cox ', 'Ewan McGregor ', 'Harry Dean Stanton ', 'Forest Whitaker ', 'Jeff Bridges ', 'Stephen Root ', 'Laurence Fishburne ', 'Kevin Costner ', 'Danny Glover ', 'Joe Chrest ', 'Tommy Lee Jones ', 'Clint Eastwood ', 'Shah Rukh Khan ', 'Michael Papajohn ', 'Antonio Banderas ', 'James Franco ', 'Ben Affleck ', 'Donald Sutherland ', 'Tom Cruise ', 'Owen Wilson ', 'Scarlett Johansson ', 'James Earl Jones ', 'Cate Blanchett ', 'Anthony Hopkins ', 'Colin Farrell ', 'John Cusack ', 'Dan Aykroyd ', 'Stan Lee ', 'Kathy Bates ', 'Bill Hader ', 'Jim Broadbent ', 'Gary Oldman ', 'John Turturro ', 'Keanu Reeves ', 'Brendan Gleeson ', 'Christopher Plummer ', 'Bruce Greenwood ', 'Harvey Keitel ', 'Stephen Tobolowsky ', 'Sigourney Weaver ', 'Fred Tatasciore ', 'Helen Mirren ', 'Bob Bergen ', 'Jack Black ', 'Michael Shannon ', 'John C. Reilly ', 'Matthew McConaughey ', 'Mel Gibson ', 'Dwayne Johnson ', 'John Malkovich ', 'Mark Wahlberg ', 'Bill Nighy ', 'John Cleese ', 'Danny DeVito ', 'James Hong ', 'Xander Berkeley ', 'Will Ferrell ', 'Julia Roberts ', 'Clint Howard ', 'William H. Macy ', 'John Travolta ', 'M. Emmet Walsh ', 'Don Cheadle ', 'Stellan Skarsgård ', 'Allison Janney ', 'Whoopi Goldberg ', 'Jack Angel ', 'Octavia Spencer ', 'Naomi Watts ', 'Philip Baker Hall ', 'Nick Nolte ', 'Danny Trejo ', 'Bruce McGill ', 'Anthony Mackie ', 'Michelle Pfeiffer ', 'Jason Statham ', 'Ralph Fiennes ', 'Michael Gambon ', 'Jess Harnell ', 'Eddie Murphy ', 'Elizabeth Banks ', 'Eddie Marsan ', 'John Lithgow ', 'Tom Wilkinson ', 'Adam Sandler ', 'Arthur Tovey ', 'Kevin Spacey ', 'Ethan Hawke ', 'Gwyneth Paltrow ', 'Emma Thompson ', 'Jim Cummings ', 'Wallace Shawn ', 'Philip Seymour Hoffman ', 'Oliver Platt ', 'Hugh Jackman ', 'Mark Strong ', 'Richard Gere ', 'Luis Guzmán ', 'Kevin Bacon ', 'Bert Stevens ', 'Mark Ruffalo ', 'William Hurt ', 'David Thewlis ', 'Toby Jones ', 'Jeff Goldblum ', 'John Ratzenberger ', 'Sherry Lynn ', 'Laraine Newman ', 'Jude Law ', 'Kevin Dunn ', 'James Remar ', 'Diane Keaton ', 'Eugene Levy ', 'Patrick Stewart ', 'Rance Howard ', 'Halle Berry ', 'Ed Harris ', 'Jackie Chan ', 'Jonah Hill ', 'Jeffrey Tambor ', 'Arnold Schwarzenegger ', 'Steve Zahn ', 'Christian Slater ', 'Christopher McDonald ', 'Alan Arkin ', 'Paul Rudd ', 'Tilda Swinton ', 'Jon Favreau ', 'Michael Douglas ', 'Bill Paxton ', 'Ciarán Hinds ', 'Charlize Theron ', 'Sandra Bullock ', 'Christian Bale ', 'Ving Rhames ', 'Drew Barrymore ', 'Ryan Reynolds ', 'George Clooney ', 'Peter Stormare ', 'Sean Connery ', 'Channing Tatum ', 'Mike Starr ', 'Lin Shaye ', 'Colleen Camp ', 'Dennis Hopper ', 'Burt Reynolds ', 'Josh Brolin ', 'Seth Rogen ', 'James Cromwell ', 'Michael Keaton ', 'Judi Dench ', 'Jason Bateman ', 'Cameron Diaz ', 'Diane Lane ', 'Dan Hedaya ', 'Martin Sheen ', 'Michael Peña ', 'John Franchi ', 'Andy García ', 'Val Kilmer ', 'Ray Liotta ', 'Anjelica Huston ', 'David Koechner ', 'Dermot Mulroney ', 'James Woods ', 'Natalie Portman ', 'Bradley Cooper ', 'Idris Elba ', 'Alan Tudyk ', 'Maggie Smith ', 'Jason Isaacs ', 'Catherine Keener ', 'Steve Carell ', 'Frances McDormand ', 'Joan Cusack ', 'Kristen Wiig ', 'Kevin Hart ', 'Kirsten Dunst ', 'Queen Latifah ', 'Jon Voight ', 'Richard Schiff ', 'Chris Rock ', 'Chris Cooper ', 'Vince Vaughn ', 'Pierce Brosnan ', 'Billy Bob Thornton ', 'Rachel Weisz ', 'Jim Carrey ', 'Rosario Dawson ', 'Justin Long ', 'Margo Martindale ', 'Steve Martin ', 'Elias Koteas ', 'Patricia Clarkson ', 'Luke Wilson ', \"William H. O'Brien \", 'Angela Bassett ', 'Kurt Russell ', 'Timothy Spall ', 'Danny Mann ', 'Dylan Baker ', 'Clancy Brown ', 'Cheech Marin ', 'Toni Collette ', 'Jeff Daniels ', 'Tony Shalhoub ', 'Terrence Howard ', 'Salma Hayek ', 'Will Patton ', 'Robert Patrick ', 'Joe Pantoliano ', 'Tracey Walter ', 'Christopher Lloyd ', 'Liev Schreiber ', 'Jared Harris ', 'Mark Margolis ', 'Paul Herman ', 'Marisa Tomei ', 'Vin Diesel ', 'Robert Redford ', 'Ken Jeong ', 'Max von Sydow ', 'Benicio del Toro ', 'Bruce Fowler ', 'Matthew Harrison ', 'Tim Burton ', 'Chris Lebenzon ', 'Chris Columbus ', 'Philip Rogers ', 'David Crone ', 'Susan Dudeck ', 'Bob Beemer ', 'David Giammarco ', 'David Bach ', 'Roy Lee ', 'Duane Manwiller ', 'Jack Stew ', 'Allison Jones ', 'Robert Deschaine ', 'Steven Kirshoff ', 'Douglas Aibel ', 'Eric Gotthelf ', 'Paul Urmson ', 'Scott Sanders ', 'Laura Rosenthal ', 'Avi Lerner ', 'Henry Mancini ', 'Anurag Kashyap ', 'Josh McLaglen ', 'William B. Kaplan ', 'David C. Hughes ', 'Michael Giacchino ', 'Don Burgess ', 'Frederick H. Stahly ', 'Matt Curtis ', 'Craig Hosking ', 'Sam Raimi ', 'Patrick Tatopoulos ', 'Piero Mura ', 'Mel Metcalfe ', 'Sarah Katzman ', 'Lee Dichter ', 'Heike Brandstatter ', 'Jack English ', 'Stephen Hunter Flick ', 'Juel Bestrop ', 'Dennis McNeill ', 'Theresa Repola Mohammed ', 'Dino De Laurentiis ', 'Liza Chasin ', 'Ed Shearmur ', 'Kevin Smith ', 'Julie Feiner ', 'Jon Taylor ', 'Christopher T. Welch ', 'Lucy Bevan ', 'Brian Avery ', 'Michael Babcock ', 'Dottie Starling ', 'Donah Bassett ', 'Gary Jones ', 'Akiva Goldsman ', 'David E. Campbell ', 'Melinda Sue Gordon ', 'M. Night Shyamalan ', 'Juno J. Ellis ', 'Peter Afterman ', 'Vic Armstrong ', 'Aaron Glascock ', 'James Matheny ', 'Adam McKay ', 'Robert Fernandez ', 'Jennifer L. Smith ', 'Don Carmody ', 'Judd Apatow ', 'Yoram Globus ', 'Richard Hymns ', 'Ben Burtt ', 'J.J. Abrams ', 'Edouard F. Henriques ', 'Peter Jackson ', 'François Duhamel ', 'Tom Ozanich ', 'Teri E. Dorman ', 'Merrick Morton ', 'Lauren Shuler Donner ', 'Mark Taylor ', 'Marc Fishman ', 'David Jobe ', 'Douglas Murray ', 'James Bolt ', 'Jackie Burch ', 'Michael Mann ', 'Mychael Danna ', 'Tim Walston ', 'Curt Schulkey ', 'Gregory Lundsgaard ', 'Maurice Jarre ', 'Tim Chau ', 'Aaron Zigman ', 'Marion Dougherty ', 'Peter Farrelly ', 'Mark Irwin ', 'Boaz Davidson ', 'Richard Linklater ', 'Pedro Almodóvar ', 'Frank Rinella ', 'Dylan Goss ', 'Colin Anderson ', 'Ren Klyce ', 'Mike Prestwood Smith ', 'Jeffrey J. Haboush ', 'Rosemary Brandenburg ', 'Dean A. Zupancic ', 'Marilyn McCoppen ', 'Brad Martin ', 'Mike Smith ', 'Gillian Dodders ', 'Clayton Townsend ', 'Susan Dawes ', 'Robert J. Litt ', 'Lindsay Graham ', 'Mildred Iatrou ', 'David Boulton ', 'Bob Baron ', 'Joel Cox ', 'Kathy Nelson ', 'Michael Tronick ', 'Paul Hsu ', 'Steve Pederson ', 'Sydney Pollack ', 'Kirsten Errington ', 'Jack Giarraputo ', 'Peter Hyams ', 'Tomoyuki Tanaka ', 'Juan Peralta ', 'Marshall Winn ', 'Shelley Roden ', 'J. Michael Muro ', 'Brian N. Bentley ', 'Simon Kinberg ', 'Michael J. Broomberg ', 'Karen Baker Landers ', 'Joe Roth ', 'Hamilton Sterling ', 'Will Arnot ', 'Thomas Jones ', 'Shay Cunliffe ', 'Jay Wilkinson ', 'Debbie Evans ', 'Chris Carpenter ', 'Robert Elswit ', 'Tami Treadwell ', 'Action', 'Adventure', 'Fantasy', 'Science Fiction', 'Drama', 'Romance', 'Thriller', 'Family', 'Animation', 'Crime', 'Comedy', 'Mystery', 'Music', 'History', 'War', 'Horror', 'Western', 'Documentary', 'TV Movie', 'Warner Bros. Pictures', 'Universal Pictures', 'Paramount', '20th Century Fox', 'Columbia Pictures', 'Metro-Goldwyn-Mayer', 'New Line Cinema', 'Walt Disney Pictures', 'Canal+', 'Touchstone Pictures', 'United Artists', 'Miramax', 'TriStar Pictures', 'Lionsgate', 'StudioCanal', 'Relativity Media', 'Sony Pictures', 'DreamWorks Pictures', 'Village Roadshow Pictures', 'Regency Enterprises', 'Fox Searchlight Pictures', 'Working Title Films', 'Amblin Entertainment', 'Focus Features', 'Toho Co.', 'Orion Pictures', 'Summit Entertainment', 'Dimension Films', 'BBC Films', 'Dune Entertainment', 'Film4 Productions', 'Screen Gems', 'France 2 Cinéma', 'Imagine Entertainment', 'CJ Entertainment', 'TF1 Films Production', 'TSG Entertainment', 'Fox 2000 Pictures', 'Hollywood Pictures', 'The Weinstein Company', 'Ciné+', 'Blumhouse Productions', 'New Regency Pictures', 'Ingenious Media', 'Legendary Pictures', 'Constantin Film', 'Castle Rock Entertainment', 'Scott Rudin Productions', 'Silver Pictures', 'Participant', 'original_language_af', 'original_language_ar', 'original_language_az', 'original_language_be', 'original_language_bg', 'original_language_bn', 'original_language_ca', 'original_language_cn', 'original_language_cs', 'original_language_da', 'original_language_de', 'original_language_el', 'original_language_en', 'original_language_es', 'original_language_et', 'original_language_fa', 'original_language_fi', 'original_language_fr', 'original_language_gl', 'original_language_he', 'original_language_hi', 'original_language_hu', 'original_language_id', 'original_language_it', 'original_language_iu', 'original_language_ja', 'original_language_ka', 'original_language_kn', 'original_language_ko', 'original_language_la', 'original_language_mk', 'original_language_ml', 'original_language_mn', 'original_language_mr', 'original_language_ms', 'original_language_nb', 'original_language_ne', 'original_language_nl', 'original_language_no', 'original_language_pa', 'original_language_pl', 'original_language_pt', 'original_language_ro', 'original_language_ru', 'original_language_si', 'original_language_sk', 'original_language_sv', 'original_language_ta', 'original_language_te', 'original_language_th', 'original_language_tl', 'original_language_tr', 'original_language_uk', 'original_language_ur', 'original_language_vi', 'original_language_zh', 'log_budget']\n"
     ]
    }
   ],
   "source": [
    "cv_estimator = XGBRegressor(colsample_bytree=0.6, gamma=0.3, max_depth=4, min_child_weight=5, n_estimators=300,\n",
    "                         subsample=0.8, objective='reg:squarederror')\n",
    "X_train, X_test, y_train, y_test = train_test_split(df[features], df['log_revenue'], test_size=0.1, random_state=42)\n",
    "cv_estimator.fit(X_train, y_train)\n",
    "cv_selector = RFECV(cv_estimator, cv=5, step=1, scoring='r2')\n",
    "cv_selector = cv_selector.fit(X_train, y_train)\n",
    "rfecv_mask = cv_selector.get_support() # List of 1's and 0's\n",
    "rfecv_features = []\n",
    "for boolean, feature in zip(rfecv_mask, X_train.columns):\n",
    "    if boolean:\n",
    "        rfecv_features.append(feature) # Grab only features selected by RFECV\n",
    "print('Optimal # of Features:', cv_selector.n_features_)\n",
    "print('Best Features:', rfecv_features)"
   ]
  },
  {
   "cell_type": "code",
   "execution_count": null,
   "id": "a04f1f14-919d-4400-9288-c9e5b3036528",
   "metadata": {},
   "outputs": [],
   "source": []
  }
 ],
 "metadata": {
  "kernelspec": {
   "display_name": "Python 3 (ipykernel)",
   "language": "python",
   "name": "python3"
  },
  "language_info": {
   "codemirror_mode": {
    "name": "ipython",
    "version": 3
   },
   "file_extension": ".py",
   "mimetype": "text/x-python",
   "name": "python",
   "nbconvert_exporter": "python",
   "pygments_lexer": "ipython3",
   "version": "3.9.9"
  }
 },
 "nbformat": 4,
 "nbformat_minor": 5
}
