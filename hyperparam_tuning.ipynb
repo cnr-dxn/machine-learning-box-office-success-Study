{
 "cells": [
  {
   "cell_type": "code",
   "execution_count": null,
   "id": "51febc99-3842-4ce2-8622-42f67748680f",
   "metadata": {},
   "outputs": [],
   "source": [
    "import numpy as np\n",
    "import pandas as pd\n",
    "import time\n",
    "import sklearn\n",
    "from sklearn import metrics\n",
    "from sklearn.model_selection import GridSearchCV\n",
    "from sklearn.metrics import r2_score\n",
    "from xgboost import XGBRegressor\n",
    "from sklearn.ensemble import RandomForestRegressor"
   ]
  },
  {
   "cell_type": "code",
   "execution_count": null,
   "id": "e5eadfb2-2527-4629-8a08-cf8a50502717",
   "metadata": {},
   "outputs": [],
   "source": [
    "data = pd.read_excel('../Data/ProcessedData/TMDB_processed.xlsx')\n",
    "data = data.drop(['title', 'revenue', 'budget'], axis=1) # Using log revenue"
   ]
  },
  {
   "cell_type": "code",
   "execution_count": null,
   "id": "5add1812-e6f4-40b0-81f2-8a5ec4deb0b9",
   "metadata": {},
   "outputs": [],
   "source": [
    "X = data[data.dtypes[data.columns != 'log_revenue'].index]\n",
    "y = data['log_revenue']"
   ]
  },
  {
   "cell_type": "markdown",
   "id": "d4ad8145-c38b-42d3-98a0-561120bd273a",
   "metadata": {},
   "source": [
    "**GridSearchCV on XGBRegressor**"
   ]
  },
  {
   "cell_type": "code",
   "execution_count": null,
   "id": "ed4ba738-973a-4f86-ac9f-0b2c17f70a5c",
   "metadata": {},
   "outputs": [],
   "source": [
    "# # First run\n",
    "# params =  {'max_depth': [2, 4, 6],\n",
    "#            'n_estimators': [100, 500, 1000],\n",
    "#            'colsample_bytree': [0.2, 0.6, 0.8],\n",
    "#            'min_child_weight': [3, 5, 7],\n",
    "#            'gamma': [0.3, 0.5, 0.7],\n",
    "#            'subsample': [0.4, 0.6, 0.8]}\n",
    "\n",
    "# Second run\n",
    "params = {'max_depth': [4],\n",
    "          'n_estimators': [100, 300, 500],\n",
    "          'colsample_bytree': [0.6, 0.65, 0.7],\n",
    "          'min_child_weight': [5],\n",
    "          'gamma': [0.3],\n",
    "          'subsample': [0.75, 0.8, 0.85]}\n",
    "\n",
    "model = XGBRegressor()\n",
    "\n",
    "clf = GridSearchCV(estimator=model, \n",
    "                   param_grid=params,\n",
    "                   scoring='r2', \n",
    "                   verbose=1)\n",
    "start = time.time()\n",
    "clf.fit(X, y)\n",
    "end = time.time()\n",
    "print('Time taken to tune hyperparameters: ', end - start)\n",
    "print('Best parameters: ', clf.best_params_)\n",
    "print('Best Score: ', clf.best_score_)"
   ]
  },
  {
   "cell_type": "markdown",
   "id": "8c0bd434-a1a1-425c-8c18-a196d24a084f",
   "metadata": {},
   "source": [
    "**GridSearchCV on Random Forest Regressor**"
   ]
  },
  {
   "cell_type": "code",
   "execution_count": null,
   "id": "cb0a0a2a-782e-4ef6-957f-f95af341bc6e",
   "metadata": {},
   "outputs": [],
   "source": [
    "params = {'bootstrap': [False],\n",
    "          'max_features': ['sqrt'],\n",
    "          'max_depth': [10, 20, 30, 40, 50, 60, 70, 80, 90, 100, None],\n",
    "          'n_estimators': [53],\n",
    "          'min_samples_leaf': [1, 2, 4]}\n",
    "\n",
    "model = RandomForestRegressor()\n",
    "\n",
    "clf = GridSearchCV(estimator=model, \n",
    "                   param_grid=params, \n",
    "                   scoring='r2', \n",
    "                   verbose=2)\n",
    "start = time.time()\n",
    "clf.fit(X, y)\n",
    "end = time.time()\n",
    "print('Time taken to tune hyperparameters: ', end - start)\n",
    "print('Best parameters: ', clf.best_params_)\n",
    "print('Best Score: ', clf.best_score_)"
   ]
  }
 ],
 "metadata": {
  "kernelspec": {
   "display_name": "Python 3 (ipykernel)",
   "language": "python",
   "name": "python3"
  },
  "language_info": {
   "codemirror_mode": {
    "name": "ipython",
    "version": 3
   },
   "file_extension": ".py",
   "mimetype": "text/x-python",
   "name": "python",
   "nbconvert_exporter": "python",
   "pygments_lexer": "ipython3",
   "version": "3.9.9"
  }
 },
 "nbformat": 4,
 "nbformat_minor": 5
}
