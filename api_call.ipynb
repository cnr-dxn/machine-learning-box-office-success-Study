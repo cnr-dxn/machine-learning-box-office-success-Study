{
 "cells": [
  {
   "cell_type": "code",
   "execution_count": 15,
   "id": "2be6d8db-410c-47c2-9564-ed6462381bdb",
   "metadata": {},
   "outputs": [],
   "source": [
    "import requests\n",
    "import pandas as pd\n",
    "import numpy as np\n",
    "import time"
   ]
  },
  {
   "cell_type": "code",
   "execution_count": 16,
   "id": "bf4a7ada-e35d-478d-a3b6-cac2025beb71",
   "metadata": {},
   "outputs": [],
   "source": [
    "API_key = '5096feff1c44572580c0389b8fb4b952'"
   ]
  },
  {
   "cell_type": "markdown",
   "id": "8fba6dae-3cd1-499f-9d92-f650755fb3f9",
   "metadata": {},
   "source": [
    "**<font size=\"5\">Get Data from API</font>**"
   ]
  },
  {
   "cell_type": "markdown",
   "id": "bdadcc8e-ac5d-4ae7-85aa-904f0d83f2e3",
   "metadata": {},
   "source": [
    "**Function to get movie data sorted by revenue**  "
   ]
  },
  {
   "cell_type": "code",
   "execution_count": 17,
   "id": "0c8e83e5-ee96-45bb-8f6f-d0420fc0df72",
   "metadata": {},
   "outputs": [],
   "source": [
    "def get_data(keywords, num_pages, api=API_key):\n",
    "    data = []\n",
    "    for i in range(1, num_pages):\n",
    "        query = 'https://api.themoviedb.org/3/discover/movie?api_key=' +  api + keywords +'&page=' + str(i)\n",
    "        response =  requests.get(query)\n",
    "        if response.status_code==200: \n",
    "            data.append(response.json())\n",
    "        else:\n",
    "            return \"error\"\n",
    "    return data"
   ]
  },
  {
   "cell_type": "markdown",
   "id": "685b53f2-ab44-4530-bbf5-73aa463829e7",
   "metadata": {},
   "source": [
    "**Call Function, Iterate through the Resulting pages, and Collect Necessary Information**"
   ]
  },
  {
   "cell_type": "code",
   "execution_count": 19,
   "id": "c4e56677-4d86-4b55-8857-b83527f1541e",
   "metadata": {},
   "outputs": [
    {
     "name": "stdout",
     "output_type": "stream",
     "text": [
      "Time to call 500 pages of records: 0.00016808509826660156 seconds\n"
     ]
    }
   ],
   "source": [
    "film_data = get_data('&sort_by=revenue.desc', 500)\n",
    "columns = ['title', 'revenue', 'budget', 'release_date', 'genres', 'popularity', 'original_language', 'production_companies', 'id', 'runtime', 'adult', 'cast', 'crew']\n",
    "df = pd.DataFrame(columns=columns)\n",
    "\n",
    "# Check whether keys are in json output\n",
    "fm_set = columns[:-2]\n",
    "fc_set = columns[-2:]\n",
    "start = time.time()\n",
    "# Iterate through json data and add attributes were interested in to the DataFrame\n",
    "for page in film_data:\n",
    "    for film in page['results']:\n",
    "        film_revenue = requests.get('https://api.themoviedb.org/3/movie/' + str(film['id']) + '?api_key=' + API_key + '&language=en-US').json() \n",
    "        film_cast = requests.get('https://api.themoviedb.org/3/movie/' + str(film['id']) +'/credits?api_key='+ API_key+'&language=en-US').json() \n",
    "        if set(fm_set).issubset(film_revenue.keys()) and set(fc_set).issubset(film_cast.keys()): # If entries are filled for a given film\n",
    "            df.loc[len(df)] = [film['title'], film_revenue['revenue'], film_revenue['budget'], \n",
    "                   film_revenue['release_date'], film_revenue['genres'], film_revenue['popularity'],\n",
    "                   film_revenue['original_language'], film_revenue['production_companies'], film_revenue['id'],\n",
    "                   film_revenue['runtime'], film_revenue['adult'], film_cast['cast'], film_cast['crew']]\n",
    "        else: # Discard film\n",
    "            continue\n",
    "end = time.time()\n",
    "print('Time to call 500 pages of records: {} seconds'.format(end - start))"
   ]
  },
  {
   "cell_type": "markdown",
   "id": "34970e8a-a549-4181-a06c-bfd920ebc4e8",
   "metadata": {},
   "source": [
    "**<font size=\"5\">Format Necessary Columns</font>**"
   ]
  },
  {
   "cell_type": "markdown",
   "id": "dc95277f-43e0-4b6c-8a00-ca30f20d390e",
   "metadata": {},
   "source": [
    "**Row-Wise Function to Pull Data from the JSON Loads in DataFrame**  "
   ]
  },
  {
   "cell_type": "code",
   "execution_count": null,
   "id": "756712eb-36e8-4b30-bac4-0d0bd742be9f",
   "metadata": {},
   "outputs": [],
   "source": [
    "def read_json(row, group_num):\n",
    "    list_of_names = []\n",
    "    if group_num:\n",
    "        for item in row:\n",
    "            list_of_names.append('{} | {}'.format(item['name'], item['popularity']))\n",
    "    else:\n",
    "        for item in row:\n",
    "            list_of_names.append(item['name'])\n",
    "    return ', '.join(list_of_names)"
   ]
  },
  {
   "cell_type": "markdown",
   "id": "0078fcb9-256d-40a3-a0c1-302c2ffb6392",
   "metadata": {},
   "source": [
    "**Call Function on Necessary Columns in DataFrame**"
   ]
  },
  {
   "cell_type": "code",
   "execution_count": null,
   "id": "f0a8f37f-3509-4745-a371-bd6714ed35c3",
   "metadata": {},
   "outputs": [],
   "source": [
    "# Group 1 refers to crew/cast (we want name : popularity)\n",
    "df['crew'] = df['crew'].apply(lambda d: read_json(d, 1))\n",
    "df['cast'] = df['cast'].apply(lambda d: read_json(d, 1))\n",
    "\n",
    "# Group 0 refers to genres/production_companies (we just want name)\n",
    "df['genres'] = df['genres'].apply(lambda d: read_json(d, 0))\n",
    "df['production_companies'] = df['production_companies'].apply(lambda d: read_json(d, 0))"
   ]
  },
  {
   "cell_type": "markdown",
   "id": "34b3d49a-92f0-4321-bde6-2357b3780a5b",
   "metadata": {},
   "source": [
    "**Save to File**"
   ]
  },
  {
   "cell_type": "code",
   "execution_count": null,
   "id": "22acbbf1-dd38-4129-99d3-934b6aec3cbd",
   "metadata": {},
   "outputs": [],
   "source": [
    "df.to_excel('../Data/TMDB_dataset.xlsx', index=False)\n",
    "# df.to_csv('../Data/TMDB_dataset.csv', index=False)"
   ]
  },
  {
   "cell_type": "code",
   "execution_count": null,
   "id": "723846aa-4021-47e3-b7a2-2d2ac7dc8fa2",
   "metadata": {},
   "outputs": [],
   "source": []
  }
 ],
 "metadata": {
  "kernelspec": {
   "display_name": "Python 3 (ipykernel)",
   "language": "python",
   "name": "python3"
  },
  "language_info": {
   "codemirror_mode": {
    "name": "ipython",
    "version": 3
   },
   "file_extension": ".py",
   "mimetype": "text/x-python",
   "name": "python",
   "nbconvert_exporter": "python",
   "pygments_lexer": "ipython3",
   "version": "3.9.9"
  }
 },
 "nbformat": 4,
 "nbformat_minor": 5
}
