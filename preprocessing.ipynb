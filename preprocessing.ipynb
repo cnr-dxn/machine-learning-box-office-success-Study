{
 "cells": [
  {
   "cell_type": "code",
   "execution_count": 52,
   "id": "307ccbc4-0f03-4eb1-963a-b4d903aaf22e",
   "metadata": {},
   "outputs": [],
   "source": [
    "import pandas as pd\n",
    "import numpy as np\n",
    "import json\n",
    "import matplotlib.pyplot as plt\n",
    "import matplotlib\n",
    "from datetime import datetime\n",
    "import re\n",
    "import sklearn\n",
    "import seaborn as sns\n",
    "import collections\n",
    "from scipy.stats import norm\n",
    "from sklearn.preprocessing import LabelEncoder\n",
    "pd.set_option('display.max_columns', None)"
   ]
  },
  {
   "cell_type": "code",
   "execution_count": 53,
   "id": "1e1107f1-cdd0-481d-8f82-9b7b7721f445",
   "metadata": {},
   "outputs": [],
   "source": [
    "df = pd.read_excel('../Data/OriginalData/TMDB_dataset.xlsx')\n",
    "df = df.dropna()\n",
    "df.reset_index(drop=True, inplace=True)"
   ]
  },
  {
   "cell_type": "markdown",
   "id": "23492a2a-4a1c-4ac4-804f-5fa3d2017422",
   "metadata": {},
   "source": [
    "**<font size=\"5\">Popularity Metrics</font>**"
   ]
  },
  {
   "cell_type": "markdown",
   "id": "179b34d9-14a7-4bf9-a25e-ef740726e6cb",
   "metadata": {},
   "source": [
    "**Row-Wise Function to Compute Average Popularity for a Movie Crew/Cast**"
   ]
  },
  {
   "cell_type": "code",
   "execution_count": 54,
   "id": "710f656e-0caa-4553-8fab-d190f13656be",
   "metadata": {},
   "outputs": [],
   "source": [
    "def avg_popularity(row):\n",
    "    score = 0\n",
    "    remove_duplicates = []\n",
    "    if isinstance(row, float):\n",
    "        return np.nan\n",
    "    else:\n",
    "        for person in row.split(','):\n",
    "            if person not in remove_duplicates:\n",
    "                remove_duplicates.append(person)\n",
    "        for m in remove_duplicates:\n",
    "            if len(m.lstrip().split(':')) > 1:\n",
    "                score += float(m.lstrip().split(':')[-1])\n",
    "        return score/len(remove_duplicates)"
   ]
  },
  {
   "cell_type": "markdown",
   "id": "c851c11a-6e5c-41df-bb0c-16ee2a7ee079",
   "metadata": {},
   "source": [
    "**Function Call**"
   ]
  },
  {
   "cell_type": "code",
   "execution_count": 55,
   "id": "e679655f-8829-40df-ac39-9918972432ba",
   "metadata": {},
   "outputs": [],
   "source": [
    "df['cast_average'] = df['cast'].apply(lambda c: avg_popularity(c))\n",
    "df['crew_average'] = df['crew'].apply(lambda c: avg_popularity(c))"
   ]
  },
  {
   "cell_type": "markdown",
   "id": "fc6ea809-02ed-4fcf-a198-cb8a45bbfbed",
   "metadata": {},
   "source": [
    "**<font size=\"5\">Encodings</font>**"
   ]
  },
  {
   "cell_type": "markdown",
   "id": "8f2fc22a-6068-499f-9419-c2ba7b0bf39b",
   "metadata": {},
   "source": [
    "**OneHot Encode the top 500 actors**  \n",
    "Note: Cannot use built in function because we need to change the format"
   ]
  },
  {
   "cell_type": "code",
   "execution_count": 56,
   "id": "5de921bb-de64-4e7b-a386-0008d49da4df",
   "metadata": {},
   "outputs": [],
   "source": [
    "unique_actors = []\n",
    "for list_of_actors in df['cast'].tolist():\n",
    "    for act in list_of_actors.split(','):\n",
    "        unique_actors.append(act.split(':')[0].lstrip())"
   ]
  },
  {
   "cell_type": "code",
   "execution_count": 57,
   "id": "d52ecc5e-0548-4e38-b48f-a9848e9c4894",
   "metadata": {},
   "outputs": [
    {
     "name": "stderr",
     "output_type": "stream",
     "text": [
      "/var/folders/wf/gnllpg551yvc7g8z_j80tmgm0000gn/T/ipykernel_13430/1061978767.py:3: PerformanceWarning: DataFrame is highly fragmented.  This is usually the result of calling `frame.insert` many times, which has poor performance.  Consider joining all columns at once using pd.concat(axis=1) instead.  To get a de-fragmented frame, use `newframe = frame.copy()`\n",
      "  df[act] = df['cast'].apply(lambda actor_list: 1 if act in actor_list.split(', ') else 0)\n"
     ]
    }
   ],
   "source": [
    "common_act = [c[0] for c in collections.Counter(unique_actors).most_common(500)]\n",
    "for act in common_act:\n",
    "    df[act] = df['cast'].apply(lambda actor_list: 1 if act in actor_list.split(', ') else 0)\n",
    "df = df.drop('cast', axis=1)"
   ]
  },
  {
   "cell_type": "markdown",
   "id": "31a1ee12-4463-4849-95d7-d8516a7ed657",
   "metadata": {},
   "source": [
    "**OneHot Encode the top 500 crew members**  \n",
    "Note: Cannot use built in function because we need to change the format"
   ]
  },
  {
   "cell_type": "code",
   "execution_count": 58,
   "id": "1a7ec0fc-7290-45dc-b181-f6f96cc3c7c1",
   "metadata": {},
   "outputs": [],
   "source": [
    "unique_crew = []\n",
    "for list_of_crew in df['crew'].tolist():\n",
    "    for mem in list_of_crew.split(','):\n",
    "        unique_crew.append(mem.split(':')[0].lstrip())"
   ]
  },
  {
   "cell_type": "code",
   "execution_count": 59,
   "id": "76dff1b8-3c06-43f1-86b6-6653b59ec8fa",
   "metadata": {},
   "outputs": [
    {
     "name": "stderr",
     "output_type": "stream",
     "text": [
      "/var/folders/wf/gnllpg551yvc7g8z_j80tmgm0000gn/T/ipykernel_13430/4245124629.py:3: PerformanceWarning: DataFrame is highly fragmented.  This is usually the result of calling `frame.insert` many times, which has poor performance.  Consider joining all columns at once using pd.concat(axis=1) instead.  To get a de-fragmented frame, use `newframe = frame.copy()`\n",
      "  df[mem] = df['crew'].apply(lambda crew_list: 1 if mem in crew_list.split(', ') else 0)\n"
     ]
    }
   ],
   "source": [
    "common_mems = [c[0] for c in collections.Counter(unique_crew).most_common(500)]\n",
    "for mem in common_mems:\n",
    "    df[mem] = df['crew'].apply(lambda crew_list: 1 if mem in crew_list.split(', ') else 0)\n",
    "df = df.drop('crew', axis=1)"
   ]
  },
  {
   "cell_type": "markdown",
   "id": "1d9303f5-caa2-4622-9d9c-9c104f5bae7f",
   "metadata": {},
   "source": [
    "**OneHot Encode the Genres**  \n",
    "Note: Cannot use built in function because we need to change the format"
   ]
  },
  {
   "cell_type": "code",
   "execution_count": 60,
   "id": "32d6b5ac-40db-4a46-8520-8a299e3b4863",
   "metadata": {},
   "outputs": [],
   "source": [
    "unique_genres = []\n",
    "for list_of_genres in df['genres'].tolist():\n",
    "    for genre in list_of_genres.split(','):\n",
    "        if genre.lstrip() not in unique_genres:\n",
    "            unique_genres.append(genre.lstrip())"
   ]
  },
  {
   "cell_type": "code",
   "execution_count": 61,
   "id": "ec4dd9fd-e3f1-40ef-ae69-56b40a68edb6",
   "metadata": {},
   "outputs": [],
   "source": [
    "for genre in unique_genres:\n",
    "    df[genre] = df['genres'].apply(lambda genre_list: 1 if genre in genre_list.split(', ') else 0)\n",
    "df = df.drop('genres', axis=1)"
   ]
  },
  {
   "cell_type": "markdown",
   "id": "41da74e5-48a1-4ad8-9d4a-2e3b2b52c5fb",
   "metadata": {},
   "source": [
    "**OneHot Encode the Production Companies (May not use this attribute because there are 9313 companies)**  \n",
    "Note: Cannot use built in function because we need to change the format"
   ]
  },
  {
   "cell_type": "code",
   "execution_count": 62,
   "id": "91f2a3af-0cbd-4186-a61e-5de54a8d23c2",
   "metadata": {},
   "outputs": [],
   "source": [
    "unique_prod_comp = []\n",
    "for list_of_comp in df['production_companies'].tolist():\n",
    "    for comp in list_of_comp.split(','):\n",
    "        unique_prod_comp.append((comp.lstrip()))"
   ]
  },
  {
   "cell_type": "code",
   "execution_count": 63,
   "id": "bf5ed721-c1fe-4306-9e2c-80cfa374bc6a",
   "metadata": {},
   "outputs": [],
   "source": [
    "common_pc = [c[0] for c in collections.Counter(unique_prod_comp).most_common(50)]\n",
    "for comp in common_pc:\n",
    "    df[comp] = df['production_companies'].apply(lambda comp_list: 1 if comp in comp_list.split(', ') else 0)\n",
    "df = df.drop('production_companies', axis=1)"
   ]
  },
  {
   "cell_type": "markdown",
   "id": "2c5c6b8f-c493-4d93-854c-2abf2d964dcd",
   "metadata": {},
   "source": [
    "**OneHot Encode the Original Langauge**  \n",
    "Note: Also may leave out because there are 50 different languages"
   ]
  },
  {
   "cell_type": "code",
   "execution_count": 64,
   "id": "07e74485-44a4-43c4-b987-abcd5a7834ad",
   "metadata": {},
   "outputs": [],
   "source": [
    "df = pd.get_dummies(df, columns=['original_language'])"
   ]
  },
  {
   "cell_type": "markdown",
   "id": "ab1b89b6-5ce9-49db-8610-2ddde2967fe1",
   "metadata": {},
   "source": [
    "**Bin Release Dates By Year**"
   ]
  },
  {
   "cell_type": "code",
   "execution_count": 65,
   "id": "edb1ae93-cc99-47bb-8673-76252c4457ec",
   "metadata": {},
   "outputs": [],
   "source": [
    "# Convert to datetime\n",
    "df['release_date'] = df['release_date'].apply(lambda d: datetime.strptime(d, '%Y-%m-%d'))\n",
    "# Bin and Encode\n",
    "le = LabelEncoder()\n",
    "n_bins = 104 # Number of years from 1918 and 2020 (inclusive)\n",
    "df['release_date'] = le.fit_transform(pd.cut(df['release_date'], n_bins, retbins=True)[0])"
   ]
  },
  {
   "cell_type": "markdown",
   "id": "ba019493-f22a-4c46-a8ac-ed6bf968adba",
   "metadata": {},
   "source": [
    "**Create New Columns for Day of Month and Year (worse than binning)**"
   ]
  },
  {
   "cell_type": "code",
   "execution_count": 66,
   "id": "bfca19d8-8e1c-4898-bc87-a9b7901f76d4",
   "metadata": {},
   "outputs": [],
   "source": [
    "# # Convert to datetime\n",
    "# df['release_date'] = df['release_date'].apply(lambda d: datetime.strptime(d, '%Y-%m-%d'))\n",
    "# df['day'] = df['release_date'].dt.day\n",
    "# df['month'] = df['release_date'].dt.month\n",
    "# df['year'] = df['release_date'].dt.year\n",
    "# df = df.drop(['release_date'], axis=1)"
   ]
  },
  {
   "cell_type": "markdown",
   "id": "b7f0d6c7-5598-4962-9b53-c7d8c5f12651",
   "metadata": {},
   "source": [
    "**Log Transform Revenue and Budget**"
   ]
  },
  {
   "cell_type": "code",
   "execution_count": 67,
   "id": "3e058082-4a5a-4ea6-bac6-3c58fe3b23fd",
   "metadata": {},
   "outputs": [],
   "source": [
    "df['log_revenue'] = np.log1p(df['revenue'])\n",
    "df['log_budget'] = np.log1p(df['budget'])"
   ]
  },
  {
   "cell_type": "markdown",
   "id": "8d278629-ddcc-45a7-914d-581e7332ed27",
   "metadata": {},
   "source": [
    "**Save to New File**"
   ]
  },
  {
   "cell_type": "code",
   "execution_count": 68,
   "id": "7965b5ae-47bb-450a-bf78-f41af133a660",
   "metadata": {},
   "outputs": [],
   "source": [
    "df.to_excel('../Data/ProcessedData/TMDB_processed.xlsx', index=False)"
   ]
  },
  {
   "cell_type": "code",
   "execution_count": null,
   "id": "ff3ba4b4-7434-45bb-9ae0-9168eed88002",
   "metadata": {},
   "outputs": [],
   "source": []
  }
 ],
 "metadata": {
  "kernelspec": {
   "display_name": "Python 3 (ipykernel)",
   "language": "python",
   "name": "python3"
  },
  "language_info": {
   "codemirror_mode": {
    "name": "ipython",
    "version": 3
   },
   "file_extension": ".py",
   "mimetype": "text/x-python",
   "name": "python",
   "nbconvert_exporter": "python",
   "pygments_lexer": "ipython3",
   "version": "3.9.9"
  }
 },
 "nbformat": 4,
 "nbformat_minor": 5
}
